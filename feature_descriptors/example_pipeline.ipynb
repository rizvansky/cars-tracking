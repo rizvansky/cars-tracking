{
 "cells": [
  {
   "cell_type": "code",
   "execution_count": 2,
   "id": "d377d029",
   "metadata": {},
   "outputs": [
    {
     "data": {
      "application/javascript": [
       "\n",
       "            setTimeout(function() {\n",
       "                var nbb_cell_id = 2;\n",
       "                var nbb_unformatted_code = \"%load_ext nb_black\";\n",
       "                var nbb_formatted_code = \"%load_ext nb_black\";\n",
       "                var nbb_cells = Jupyter.notebook.get_cells();\n",
       "                for (var i = 0; i < nbb_cells.length; ++i) {\n",
       "                    if (nbb_cells[i].input_prompt_number == nbb_cell_id) {\n",
       "                        if (nbb_cells[i].get_text() == nbb_unformatted_code) {\n",
       "                             nbb_cells[i].set_text(nbb_formatted_code);\n",
       "                        }\n",
       "                        break;\n",
       "                    }\n",
       "                }\n",
       "            }, 500);\n",
       "            "
      ],
      "text/plain": [
       "<IPython.core.display.Javascript object>"
      ]
     },
     "metadata": {},
     "output_type": "display_data"
    }
   ],
   "source": [
    "%load_ext nb_black"
   ]
  },
  {
   "cell_type": "code",
   "execution_count": 3,
   "id": "58c045df",
   "metadata": {},
   "outputs": [
    {
     "data": {
      "application/javascript": [
       "\n",
       "            setTimeout(function() {\n",
       "                var nbb_cell_id = 3;\n",
       "                var nbb_unformatted_code = \"import cv2\\nimport pandas as pd\\nimport matplotlib.pyplot as plt\\nimport numpy as np\\n\\nfrom tqdm import tqdm\\nimport os\\nfrom pathlib import Path\";\n",
       "                var nbb_formatted_code = \"import cv2\\nimport pandas as pd\\nimport matplotlib.pyplot as plt\\nimport numpy as np\\n\\nfrom tqdm import tqdm\\nimport os\\nfrom pathlib import Path\";\n",
       "                var nbb_cells = Jupyter.notebook.get_cells();\n",
       "                for (var i = 0; i < nbb_cells.length; ++i) {\n",
       "                    if (nbb_cells[i].input_prompt_number == nbb_cell_id) {\n",
       "                        if (nbb_cells[i].get_text() == nbb_unformatted_code) {\n",
       "                             nbb_cells[i].set_text(nbb_formatted_code);\n",
       "                        }\n",
       "                        break;\n",
       "                    }\n",
       "                }\n",
       "            }, 500);\n",
       "            "
      ],
      "text/plain": [
       "<IPython.core.display.Javascript object>"
      ]
     },
     "metadata": {},
     "output_type": "display_data"
    }
   ],
   "source": [
    "import cv2\n",
    "import pandas as pd\n",
    "import matplotlib.pyplot as plt\n",
    "import numpy as np\n",
    "\n",
    "from tqdm import tqdm\n",
    "import os\n",
    "from pathlib import Path"
   ]
  },
  {
   "cell_type": "markdown",
   "id": "13e50b97",
   "metadata": {},
   "source": [
    "### Crop images"
   ]
  },
  {
   "cell_type": "code",
   "execution_count": 10,
   "id": "345669f2",
   "metadata": {},
   "outputs": [
    {
     "data": {
      "application/javascript": [
       "\n",
       "            setTimeout(function() {\n",
       "                var nbb_cell_id = 10;\n",
       "                var nbb_unformatted_code = \"def split_video(video_name):\\n    save_dir = video_name[:-4]\\n    vidcap = cv2.VideoCapture(f\\\"data/{video_name}\\\")\\n    ret, image = vidcap.read()\\n    count = 1\\n\\n    if save_dir not in os.listdir(\\\"data_frames\\\"):\\n        os.mkdir(f\\\"data_frames/{save_dir}\\\")\\n\\n    while ret:\\n        cv2.imwrite(f\\\"data_frames/{save_dir}/frame{count}.jpg\\\", image)\\n        ret, image = vidcap.read()\\n        count += 1\";\n",
       "                var nbb_formatted_code = \"def split_video(video_name):\\n    save_dir = video_name[:-4]\\n    vidcap = cv2.VideoCapture(f\\\"data/{video_name}\\\")\\n    ret, image = vidcap.read()\\n    count = 1\\n\\n    if save_dir not in os.listdir(\\\"data_frames\\\"):\\n        os.mkdir(f\\\"data_frames/{save_dir}\\\")\\n\\n    while ret:\\n        cv2.imwrite(f\\\"data_frames/{save_dir}/frame{count}.jpg\\\", image)\\n        ret, image = vidcap.read()\\n        count += 1\";\n",
       "                var nbb_cells = Jupyter.notebook.get_cells();\n",
       "                for (var i = 0; i < nbb_cells.length; ++i) {\n",
       "                    if (nbb_cells[i].input_prompt_number == nbb_cell_id) {\n",
       "                        if (nbb_cells[i].get_text() == nbb_unformatted_code) {\n",
       "                             nbb_cells[i].set_text(nbb_formatted_code);\n",
       "                        }\n",
       "                        break;\n",
       "                    }\n",
       "                }\n",
       "            }, 500);\n",
       "            "
      ],
      "text/plain": [
       "<IPython.core.display.Javascript object>"
      ]
     },
     "metadata": {},
     "output_type": "display_data"
    }
   ],
   "source": [
    "def split_video(video_name):\n",
    "    save_dir = video_name[:-4]\n",
    "    vidcap = cv2.VideoCapture(f\"data/{video_name}\")\n",
    "    ret, image = vidcap.read()\n",
    "    count = 1\n",
    "\n",
    "    if save_dir not in os.listdir(\"data_frames\"):\n",
    "        os.mkdir(f\"data_frames/{save_dir}\")\n",
    "\n",
    "    while ret:\n",
    "        cv2.imwrite(f\"data_frames/{save_dir}/frame{count}.jpg\", image)\n",
    "        ret, image = vidcap.read()\n",
    "        count += 1"
   ]
  },
  {
   "cell_type": "code",
   "execution_count": null,
   "id": "cd901b0a",
   "metadata": {},
   "outputs": [],
   "source": [
    "video_ext = [\"mov\", \"mp4\"]\n",
    "for f in tqdm(os.listdir(\"data\")):\n",
    "    if f[-3:].lower() in video_ext:\n",
    "        split_video(f)"
   ]
  },
  {
   "cell_type": "code",
   "execution_count": 20,
   "id": "6a06ccfd",
   "metadata": {},
   "outputs": [
    {
     "data": {
      "application/javascript": [
       "\n",
       "            setTimeout(function() {\n",
       "                var nbb_cell_id = 20;\n",
       "                var nbb_unformatted_code = \"def crop_frames(save_dir, df):\\n    for i, row in df.iterrows():\\n        k, id, x, y, w, h = row.values\\n\\n        if save_dir not in os.listdir(\\\"data_crops\\\"):\\n            os.mkdir(f\\\"data_crops/{save_dir}\\\")\\n\\n        img = cv2.imread(f\\\"data_frames/{save_dir}/frame{int(k)}.jpg\\\")\\n        crop = img[int(y) : int(y + h), int(x) : int(x + w)]\\n        if crop.size != 0:\\n            cv2.imwrite(f\\\"data_crops/{save_dir}/frame{int(k)}.jpg\\\", crop)\";\n",
       "                var nbb_formatted_code = \"def crop_frames(save_dir, df):\\n    for i, row in df.iterrows():\\n        k, id, x, y, w, h = row.values\\n\\n        if save_dir not in os.listdir(\\\"data_crops\\\"):\\n            os.mkdir(f\\\"data_crops/{save_dir}\\\")\\n\\n        img = cv2.imread(f\\\"data_frames/{save_dir}/frame{int(k)}.jpg\\\")\\n        crop = img[int(y) : int(y + h), int(x) : int(x + w)]\\n        if crop.size != 0:\\n            cv2.imwrite(f\\\"data_crops/{save_dir}/frame{int(k)}.jpg\\\", crop)\";\n",
       "                var nbb_cells = Jupyter.notebook.get_cells();\n",
       "                for (var i = 0; i < nbb_cells.length; ++i) {\n",
       "                    if (nbb_cells[i].input_prompt_number == nbb_cell_id) {\n",
       "                        if (nbb_cells[i].get_text() == nbb_unformatted_code) {\n",
       "                             nbb_cells[i].set_text(nbb_formatted_code);\n",
       "                        }\n",
       "                        break;\n",
       "                    }\n",
       "                }\n",
       "            }, 500);\n",
       "            "
      ],
      "text/plain": [
       "<IPython.core.display.Javascript object>"
      ]
     },
     "metadata": {},
     "output_type": "display_data"
    }
   ],
   "source": [
    "def crop_frames(save_dir, df):\n",
    "    for i, row in df.iterrows():\n",
    "        k, id, x, y, w, h = row.values\n",
    "\n",
    "        if save_dir not in os.listdir(\"data_crops\"):\n",
    "            os.mkdir(f\"data_crops/{save_dir}\")\n",
    "\n",
    "        img = cv2.imread(f\"data_frames/{save_dir}/frame{int(k)}.jpg\")\n",
    "        crop = img[int(y) : int(y + h), int(x) : int(x + w)]\n",
    "        if crop.size != 0:\n",
    "            cv2.imwrite(f\"data_crops/{save_dir}/frame{int(k)}.jpg\", crop)"
   ]
  },
  {
   "cell_type": "code",
   "execution_count": null,
   "id": "8541256e",
   "metadata": {},
   "outputs": [],
   "source": [
    "for f in tqdm(os.listdir(\"data\")):\n",
    "    if \".txt\" in f:\n",
    "        df = pd.read_csv(\n",
    "            f\"data/{f}\",\n",
    "            sep=\"\\t\",\n",
    "            header=None,\n",
    "            names=[\"k\", \"ID_i\", \"x\", \"y\", \"width\", \"height\"],\n",
    "            skiprows=3,\n",
    "        )\n",
    "        df.drop\n",
    "        crop_frames(f[:-4], df)"
   ]
  },
  {
   "cell_type": "markdown",
   "id": "afa74e60",
   "metadata": {},
   "source": [
    "## Extract features with use of hog descriptor"
   ]
  },
  {
   "cell_type": "code",
   "execution_count": 1,
   "id": "fe9eb587",
   "metadata": {},
   "outputs": [],
   "source": [
    "from feature_descriptors import hog"
   ]
  },
  {
   "cell_type": "code",
   "execution_count": 4,
   "id": "96d15b2a",
   "metadata": {},
   "outputs": [
    {
     "data": {
      "application/javascript": [
       "\n",
       "            setTimeout(function() {\n",
       "                var nbb_cell_id = 4;\n",
       "                var nbb_unformatted_code = \"crops = {}\";\n",
       "                var nbb_formatted_code = \"crops = {}\";\n",
       "                var nbb_cells = Jupyter.notebook.get_cells();\n",
       "                for (var i = 0; i < nbb_cells.length; ++i) {\n",
       "                    if (nbb_cells[i].input_prompt_number == nbb_cell_id) {\n",
       "                        if (nbb_cells[i].get_text() == nbb_unformatted_code) {\n",
       "                             nbb_cells[i].set_text(nbb_formatted_code);\n",
       "                        }\n",
       "                        break;\n",
       "                    }\n",
       "                }\n",
       "            }, 500);\n",
       "            "
      ],
      "text/plain": [
       "<IPython.core.display.Javascript object>"
      ]
     },
     "metadata": {},
     "output_type": "display_data"
    }
   ],
   "source": [
    "crops = {}"
   ]
  },
  {
   "cell_type": "code",
   "execution_count": 5,
   "id": "2b2e99ef",
   "metadata": {
    "scrolled": true
   },
   "outputs": [
    {
     "name": "stderr",
     "output_type": "stream",
     "text": [
      "100%|████████████████████████████████████████████████████████████████████████████████████████████████████████████████████| 683/683 [00:03<00:00, 196.86it/s]\n",
      "100%|██████████████████████████████████████████████████████████████████████████████████████████████████████████████████| 1305/1305 [00:06<00:00, 194.02it/s]\n",
      "100%|████████████████████████████████████████████████████████████████████████████████████████████████████████████████████| 687/687 [00:04<00:00, 166.42it/s]\n",
      "100%|██████████████████████████████████████████████████████████████████████████████████████████████████████████████████| 1656/1656 [00:11<00:00, 144.30it/s]\n",
      "100%|██████████████████████████████████████████████████████████████████████████████████████████████████████████████████| 1474/1474 [00:09<00:00, 150.81it/s]\n",
      "100%|████████████████████████████████████████████████████████████████████████████████████████████████████████████████████| 398/398 [00:02<00:00, 149.29it/s]\n",
      "100%|████████████████████████████████████████████████████████████████████████████████████████████████████████████████████| 205/205 [00:01<00:00, 139.48it/s]\n",
      "100%|████████████████████████████████████████████████████████████████████████████████████████████████████████████████████| 160/160 [00:01<00:00, 145.19it/s]\n",
      "100%|█████████████████████████████████████████████████████████████████████████████████████████████████████████████████████| 672/672 [00:08<00:00, 81.88it/s]\n",
      "100%|████████████████████████████████████████████████████████████████████████████████████████████████████████████████████| 413/413 [00:03<00:00, 115.92it/s]\n",
      "100%|██████████████████████████████████████████████████████████████████████████████████████████████████████████████████| 2658/2658 [00:23<00:00, 115.41it/s]\n",
      "100%|████████████████████████████████████████████████████████████████████████████████████████████████████████████████████| 533/533 [00:04<00:00, 118.15it/s]\n",
      "100%|█████████████████████████████████████████████████████████████████████████████████████████████████████████████████████| 551/551 [00:09<00:00, 57.80it/s]\n",
      "100%|████████████████████████████████████████████████████████████████████████████████████████████████████████████████████| 435/435 [00:03<00:00, 115.01it/s]\n",
      "100%|████████████████████████████████████████████████████████████████████████████████████████████████████████████████████| 713/713 [00:06<00:00, 115.71it/s]\n",
      "100%|████████████████████████████████████████████████████████████████████████████████████████████████████████████████████| 719/719 [00:04<00:00, 150.37it/s]\n",
      "100%|██████████████████████████████████████████████████████████████████████████████████████████████████████████████████| 1059/1059 [00:08<00:00, 119.20it/s]\n",
      "100%|████████████████████████████████████████████████████████████████████████████████████████████████████████████████████| 437/437 [00:03<00:00, 126.19it/s]\n",
      "100%|████████████████████████████████████████████████████████████████████████████████████████████████████████████████████| 341/341 [00:02<00:00, 148.08it/s]\n",
      "100%|██████████████████████████████████████████████████████████████████████████████████████████████████████████████████| 1438/1438 [00:10<00:00, 143.46it/s]\n",
      "100%|████████████████████████████████████████████████████████████████████████████████████████████████████████████████████| 729/729 [00:07<00:00, 102.93it/s]\n"
     ]
    },
    {
     "data": {
      "application/javascript": [
       "\n",
       "            setTimeout(function() {\n",
       "                var nbb_cell_id = 5;\n",
       "                var nbb_unformatted_code = \"from tqdm import tqdm\\n\\nfor f in os.listdir(\\\"data_crops/\\\"):\\n    crops[f[:-2]] = []\\n    for cf in tqdm(os.listdir(f\\\"data_crops/{f}\\\")):\\n        crop = cv2.imread(f\\\"data_crops/{f}/{cf}\\\")\\n\\n        crops[f[:-2]].append(hog(crop))\";\n",
       "                var nbb_formatted_code = \"from tqdm import tqdm\\n\\nfor f in os.listdir(\\\"data_crops/\\\"):\\n    crops[f[:-2]] = []\\n    for cf in tqdm(os.listdir(f\\\"data_crops/{f}\\\")):\\n        crop = cv2.imread(f\\\"data_crops/{f}/{cf}\\\")\\n\\n        crops[f[:-2]].append(hog(crop))\";\n",
       "                var nbb_cells = Jupyter.notebook.get_cells();\n",
       "                for (var i = 0; i < nbb_cells.length; ++i) {\n",
       "                    if (nbb_cells[i].input_prompt_number == nbb_cell_id) {\n",
       "                        if (nbb_cells[i].get_text() == nbb_unformatted_code) {\n",
       "                             nbb_cells[i].set_text(nbb_formatted_code);\n",
       "                        }\n",
       "                        break;\n",
       "                    }\n",
       "                }\n",
       "            }, 500);\n",
       "            "
      ],
      "text/plain": [
       "<IPython.core.display.Javascript object>"
      ]
     },
     "metadata": {},
     "output_type": "display_data"
    }
   ],
   "source": [
    "from tqdm import tqdm\n",
    "\n",
    "for f in os.listdir(\"data_crops/\"):\n",
    "    crops[f[:-2]] = []\n",
    "    for cf in tqdm(os.listdir(f\"data_crops/{f}\")):\n",
    "        crop = cv2.imread(f\"data_crops/{f}/{cf}\")\n",
    "\n",
    "        crops[f[:-2]].append(hog(crop))"
   ]
  },
  {
   "cell_type": "code",
   "execution_count": 6,
   "id": "676cc435",
   "metadata": {},
   "outputs": [
    {
     "data": {
      "application/javascript": [
       "\n",
       "            setTimeout(function() {\n",
       "                var nbb_cell_id = 6;\n",
       "                var nbb_unformatted_code = \"X_data = [np.array([np.array(c) for c in crops[f]]) for f in crops]\\ny_data = [i* np.ones((X.shape[0], 1)) for i, X in enumerate(X_data)]\";\n",
       "                var nbb_formatted_code = \"X_data = [np.array([np.array(c) for c in crops[f]]) for f in crops]\\ny_data = [i * np.ones((X.shape[0], 1)) for i, X in enumerate(X_data)]\";\n",
       "                var nbb_cells = Jupyter.notebook.get_cells();\n",
       "                for (var i = 0; i < nbb_cells.length; ++i) {\n",
       "                    if (nbb_cells[i].input_prompt_number == nbb_cell_id) {\n",
       "                        if (nbb_cells[i].get_text() == nbb_unformatted_code) {\n",
       "                             nbb_cells[i].set_text(nbb_formatted_code);\n",
       "                        }\n",
       "                        break;\n",
       "                    }\n",
       "                }\n",
       "            }, 500);\n",
       "            "
      ],
      "text/plain": [
       "<IPython.core.display.Javascript object>"
      ]
     },
     "metadata": {},
     "output_type": "display_data"
    }
   ],
   "source": [
    "X_data = [np.array([np.array(c) for c in crops[f]]) for f in crops]\n",
    "y_data = [i * np.ones((X.shape[0], 1)) for i, X in enumerate(X_data)]"
   ]
  },
  {
   "cell_type": "code",
   "execution_count": 8,
   "id": "b884d2e8",
   "metadata": {},
   "outputs": [
    {
     "data": {
      "application/javascript": [
       "\n",
       "            setTimeout(function() {\n",
       "                var nbb_cell_id = 8;\n",
       "                var nbb_unformatted_code = \"X = np.vstack(X_data).astype(np.float32)\\ny = np.vstack(y_data).astype(np.int32)\";\n",
       "                var nbb_formatted_code = \"X = np.vstack(X_data).astype(np.float32)\\ny = np.vstack(y_data).astype(np.int32)\";\n",
       "                var nbb_cells = Jupyter.notebook.get_cells();\n",
       "                for (var i = 0; i < nbb_cells.length; ++i) {\n",
       "                    if (nbb_cells[i].input_prompt_number == nbb_cell_id) {\n",
       "                        if (nbb_cells[i].get_text() == nbb_unformatted_code) {\n",
       "                             nbb_cells[i].set_text(nbb_formatted_code);\n",
       "                        }\n",
       "                        break;\n",
       "                    }\n",
       "                }\n",
       "            }, 500);\n",
       "            "
      ],
      "text/plain": [
       "<IPython.core.display.Javascript object>"
      ]
     },
     "metadata": {},
     "output_type": "display_data"
    }
   ],
   "source": [
    "X = np.vstack(X_data).astype(np.float32)\n",
    "y = np.vstack(y_data).astype(np.int32)"
   ]
  },
  {
   "cell_type": "code",
   "execution_count": 9,
   "id": "2bd34d2e",
   "metadata": {},
   "outputs": [
    {
     "data": {
      "application/javascript": [
       "\n",
       "            setTimeout(function() {\n",
       "                var nbb_cell_id = 9;\n",
       "                var nbb_unformatted_code = \"from sklearn.model_selection import train_test_split\\nX_train, X_test, y_train, y_test = train_test_split(X, y, test_size=0.2, random_state=42)\";\n",
       "                var nbb_formatted_code = \"from sklearn.model_selection import train_test_split\\n\\nX_train, X_test, y_train, y_test = train_test_split(\\n    X, y, test_size=0.2, random_state=42\\n)\";\n",
       "                var nbb_cells = Jupyter.notebook.get_cells();\n",
       "                for (var i = 0; i < nbb_cells.length; ++i) {\n",
       "                    if (nbb_cells[i].input_prompt_number == nbb_cell_id) {\n",
       "                        if (nbb_cells[i].get_text() == nbb_unformatted_code) {\n",
       "                             nbb_cells[i].set_text(nbb_formatted_code);\n",
       "                        }\n",
       "                        break;\n",
       "                    }\n",
       "                }\n",
       "            }, 500);\n",
       "            "
      ],
      "text/plain": [
       "<IPython.core.display.Javascript object>"
      ]
     },
     "metadata": {},
     "output_type": "display_data"
    }
   ],
   "source": [
    "from sklearn.model_selection import train_test_split\n",
    "\n",
    "X_train, X_test, y_train, y_test = train_test_split(\n",
    "    X, y, test_size=0.2, random_state=42\n",
    ")"
   ]
  },
  {
   "cell_type": "markdown",
   "id": "9a0945e5",
   "metadata": {},
   "source": [
    "## Train SVM model "
   ]
  },
  {
   "cell_type": "code",
   "execution_count": 10,
   "id": "dabe4c49",
   "metadata": {
    "scrolled": true
   },
   "outputs": [
    {
     "data": {
      "application/javascript": [
       "\n",
       "            setTimeout(function() {\n",
       "                var nbb_cell_id = 10;\n",
       "                var nbb_unformatted_code = \"def train_svm(x_train, y_train, svm_type=cv2.ml.SVM_C_SVC, svm_kernel=cv2.ml.SVM_LINEAR, term_criteria=(cv2.TERM_CRITERIA_MAX_ITER, 100, 1e-6), ):\\n    svm = cv2.ml.SVM_create()\\n    svm.setType(svm_type)\\n    svm.setKernel(svm_kernel)\\n    svm.setTermCriteria(term_criteria)\\n    svm.train(x_train, cv2.ml.ROW_SAMPLE, y_train)\\n    svm.save('svm.dat')\\n    return svm\";\n",
       "                var nbb_formatted_code = \"def train_svm(\\n    x_train,\\n    y_train,\\n    svm_type=cv2.ml.SVM_C_SVC,\\n    svm_kernel=cv2.ml.SVM_LINEAR,\\n    term_criteria=(cv2.TERM_CRITERIA_MAX_ITER, 100, 1e-6),\\n):\\n    svm = cv2.ml.SVM_create()\\n    svm.setType(svm_type)\\n    svm.setKernel(svm_kernel)\\n    svm.setTermCriteria(term_criteria)\\n    svm.train(x_train, cv2.ml.ROW_SAMPLE, y_train)\\n    svm.save(\\\"svm.dat\\\")\\n    return svm\";\n",
       "                var nbb_cells = Jupyter.notebook.get_cells();\n",
       "                for (var i = 0; i < nbb_cells.length; ++i) {\n",
       "                    if (nbb_cells[i].input_prompt_number == nbb_cell_id) {\n",
       "                        if (nbb_cells[i].get_text() == nbb_unformatted_code) {\n",
       "                             nbb_cells[i].set_text(nbb_formatted_code);\n",
       "                        }\n",
       "                        break;\n",
       "                    }\n",
       "                }\n",
       "            }, 500);\n",
       "            "
      ],
      "text/plain": [
       "<IPython.core.display.Javascript object>"
      ]
     },
     "metadata": {},
     "output_type": "display_data"
    }
   ],
   "source": [
    "def train_svm(x_train, y_train, svm_type=cv2.ml.SVM_C_SVC, svm_kernel=cv2.ml.SVM_LINEAR, term_criteria=(cv2.TERM_CRITERIA_MAX_ITER, 100, 1e-6), ):\n",
    "    svm = cv2.ml.SVM_create()\n",
    "    svm.setType(svm_type)\n",
    "    svm.setKernel(svm_kernel)\n",
    "    svm.setTermCriteria(term_criteria)\n",
    "    svm.train(x_train, cv2.ml.ROW_SAMPLE, y_train)\n",
    "    svm.save('svm.dat')\n",
    "    return svm\n"
   ]
  },
  {
   "cell_type": "code",
   "execution_count": 11,
   "id": "067b2e12",
   "metadata": {},
   "outputs": [
    {
     "data": {
      "application/javascript": [
       "\n",
       "            setTimeout(function() {\n",
       "                var nbb_cell_id = 11;\n",
       "                var nbb_unformatted_code = \"svm = train_svm(X_train, y_train)\";\n",
       "                var nbb_formatted_code = \"svm = train_svm(X_train, y_train)\";\n",
       "                var nbb_cells = Jupyter.notebook.get_cells();\n",
       "                for (var i = 0; i < nbb_cells.length; ++i) {\n",
       "                    if (nbb_cells[i].input_prompt_number == nbb_cell_id) {\n",
       "                        if (nbb_cells[i].get_text() == nbb_unformatted_code) {\n",
       "                             nbb_cells[i].set_text(nbb_formatted_code);\n",
       "                        }\n",
       "                        break;\n",
       "                    }\n",
       "                }\n",
       "            }, 500);\n",
       "            "
      ],
      "text/plain": [
       "<IPython.core.display.Javascript object>"
      ]
     },
     "metadata": {},
     "output_type": "display_data"
    }
   ],
   "source": [
    "svm = train_svm(X_train, y_train)"
   ]
  },
  {
   "cell_type": "code",
   "execution_count": 12,
   "id": "0342fe28",
   "metadata": {},
   "outputs": [
    {
     "name": "stdout",
     "output_type": "stream",
     "text": [
      "99.95608256477821\n"
     ]
    },
    {
     "data": {
      "application/javascript": [
       "\n",
       "            setTimeout(function() {\n",
       "                var nbb_cell_id = 12;\n",
       "                var nbb_unformatted_code = \"result = svm.predict(X_test)[1]\\nmask = result == y_test\\ncorrect = np.count_nonzero(mask)\\nprint(correct * 100.0 / result.size)\";\n",
       "                var nbb_formatted_code = \"result = svm.predict(X_test)[1]\\nmask = result == y_test\\ncorrect = np.count_nonzero(mask)\\nprint(correct * 100.0 / result.size)\";\n",
       "                var nbb_cells = Jupyter.notebook.get_cells();\n",
       "                for (var i = 0; i < nbb_cells.length; ++i) {\n",
       "                    if (nbb_cells[i].input_prompt_number == nbb_cell_id) {\n",
       "                        if (nbb_cells[i].get_text() == nbb_unformatted_code) {\n",
       "                             nbb_cells[i].set_text(nbb_formatted_code);\n",
       "                        }\n",
       "                        break;\n",
       "                    }\n",
       "                }\n",
       "            }, 500);\n",
       "            "
      ],
      "text/plain": [
       "<IPython.core.display.Javascript object>"
      ]
     },
     "metadata": {},
     "output_type": "display_data"
    }
   ],
   "source": [
    "result = svm.predict(X_test)[1]\n",
    "mask = result == y_test\n",
    "correct = np.count_nonzero(mask)\n",
    "print(correct * 100.0 / result.size)"
   ]
  },
  {
   "cell_type": "code",
   "execution_count": 14,
   "id": "42b42b9e",
   "metadata": {},
   "outputs": [
    {
     "data": {
      "application/javascript": [
       "\n",
       "            setTimeout(function() {\n",
       "                var nbb_cell_id = 14;\n",
       "                var nbb_unformatted_code = \"def predict(\\n    img, feature_descriptor=hog, model=svm, class_map={i: f for i, f in enumerate(crops.keys())}\\n):\\n    features = feature_descriptor(img)[np.newaxis, ...].astype(np.float32)\\n    pred = model.predict(features)[1][0][0]\\n\\n    return class_map[pred]\";\n",
       "                var nbb_formatted_code = \"def predict(\\n    img,\\n    feature_descriptor=hog,\\n    model=svm,\\n    class_map={i: f for i, f in enumerate(crops.keys())},\\n):\\n    features = feature_descriptor(img)[np.newaxis, ...].astype(np.float32)\\n    pred = model.predict(features)[1][0][0]\\n\\n    return class_map[pred]\";\n",
       "                var nbb_cells = Jupyter.notebook.get_cells();\n",
       "                for (var i = 0; i < nbb_cells.length; ++i) {\n",
       "                    if (nbb_cells[i].input_prompt_number == nbb_cell_id) {\n",
       "                        if (nbb_cells[i].get_text() == nbb_unformatted_code) {\n",
       "                             nbb_cells[i].set_text(nbb_formatted_code);\n",
       "                        }\n",
       "                        break;\n",
       "                    }\n",
       "                }\n",
       "            }, 500);\n",
       "            "
      ],
      "text/plain": [
       "<IPython.core.display.Javascript object>"
      ]
     },
     "metadata": {},
     "output_type": "display_data"
    }
   ],
   "source": [
    "def predict(\n",
    "    img,\n",
    "    feature_descriptor=hog,\n",
    "    model=svm,\n",
    "    class_map={i: f for i, f in enumerate(crops.keys())},\n",
    "):\n",
    "    features = feature_descriptor(img)[np.newaxis, ...].astype(np.float32)\n",
    "    pred = model.predict(features)[1][0][0]\n",
    "\n",
    "    return class_map[pred]"
   ]
  },
  {
   "cell_type": "code",
   "execution_count": 15,
   "id": "f545225c",
   "metadata": {},
   "outputs": [
    {
     "data": {
      "text/plain": [
       "<matplotlib.image.AxesImage at 0x2ae9f768e20>"
      ]
     },
     "execution_count": 15,
     "metadata": {},
     "output_type": "execute_result"
    },
    {
     "data": {
      "image/png": "[encoded data removed]",
      "text/plain": [
       "<Figure size 640x480 with 1 Axes>"
      ]
     },
     "metadata": {},
     "output_type": "display_data"
    },
    {
     "data": {
      "application/javascript": [
       "\n",
       "            setTimeout(function() {\n",
       "                var nbb_cell_id = 15;\n",
       "                var nbb_unformatted_code = \"plt.imshow(crop)\";\n",
       "                var nbb_formatted_code = \"plt.imshow(crop)\";\n",
       "                var nbb_cells = Jupyter.notebook.get_cells();\n",
       "                for (var i = 0; i < nbb_cells.length; ++i) {\n",
       "                    if (nbb_cells[i].input_prompt_number == nbb_cell_id) {\n",
       "                        if (nbb_cells[i].get_text() == nbb_unformatted_code) {\n",
       "                             nbb_cells[i].set_text(nbb_formatted_code);\n",
       "                        }\n",
       "                        break;\n",
       "                    }\n",
       "                }\n",
       "            }, 500);\n",
       "            "
      ],
      "text/plain": [
       "<IPython.core.display.Javascript object>"
      ]
     },
     "metadata": {},
     "output_type": "display_data"
    }
   ],
   "source": [
    "plt.imshow(crop)"
   ]
  },
  {
   "cell_type": "code",
   "execution_count": 16,
   "id": "087c8750",
   "metadata": {},
   "outputs": [
    {
     "data": {
      "text/plain": [
       "'Toyota_RAV4_2016_purple'"
      ]
     },
     "execution_count": 16,
     "metadata": {},
     "output_type": "execute_result"
    },
    {
     "data": {
      "application/javascript": [
       "\n",
       "            setTimeout(function() {\n",
       "                var nbb_cell_id = 16;\n",
       "                var nbb_unformatted_code = \"predict(crop)\";\n",
       "                var nbb_formatted_code = \"predict(crop)\";\n",
       "                var nbb_cells = Jupyter.notebook.get_cells();\n",
       "                for (var i = 0; i < nbb_cells.length; ++i) {\n",
       "                    if (nbb_cells[i].input_prompt_number == nbb_cell_id) {\n",
       "                        if (nbb_cells[i].get_text() == nbb_unformatted_code) {\n",
       "                             nbb_cells[i].set_text(nbb_formatted_code);\n",
       "                        }\n",
       "                        break;\n",
       "                    }\n",
       "                }\n",
       "            }, 500);\n",
       "            "
      ],
      "text/plain": [
       "<IPython.core.display.Javascript object>"
      ]
     },
     "metadata": {},
     "output_type": "display_data"
    }
   ],
   "source": [
    "predict(crop)"
   ]
  }
 ],
 "metadata": {
  "kernelspec": {
   "display_name": "Python 3 (ipykernel)",
   "language": "python",
   "name": "python3"
  },
  "language_info": {
   "codemirror_mode": {
    "name": "ipython",
    "version": 3
   },
   "file_extension": ".py",
   "mimetype": "text/x-python",
   "name": "python",
   "nbconvert_exporter": "python",
   "pygments_lexer": "ipython3",
   "version": "3.8.15"
  }
 },
 "nbformat": 4,
 "nbformat_minor": 5
}
