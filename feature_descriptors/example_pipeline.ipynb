{
 "cells": [
  {
   "cell_type": "code",
   "execution_count": null,
   "outputs": [],
   "source": [
    "import os\n",
    "import json\n",
    "from pathlib import Path\n",
    "\n",
    "import cv2\n",
    "import pandas as pd\n",
    "import matplotlib.pyplot as plt\n",
    "import numpy as np\n",
    "from tqdm.notebook import tqdm\n",
    "from sklearn.model_selection import train_test_split\n",
    "\n",
    "from feature_descriptors import HogFeatureDescriptor"
   ],
   "metadata": {
    "collapsed": false,
    "pycharm": {
     "name": "#%%\n"
    }
   }
  },
  {
   "cell_type": "markdown",
   "source": [
    "### Crop images"
   ],
   "metadata": {
    "collapsed": false,
    "pycharm": {
     "name": "#%% md\n"
    }
   }
  },
  {
   "cell_type": "code",
   "execution_count": null,
   "outputs": [],
   "source": [
    "VIDEOS_EXTENSIONS = ('.mov', '.mp4')\n",
    "DATA_ROOT_DIR = Path('../data/vriv/source')\n",
    "PREPROCESSED_DATA_SAVE_DIR = Path('../data/vriv/preprocessed')\n",
    "FRAMES_SAVE_DIR = PREPROCESSED_DATA_SAVE_DIR / 'frames'\n",
    "CROPPED_CARS_SAVE_DIR = PREPROCESSED_DATA_SAVE_DIR / 'crops'"
   ],
   "metadata": {
    "collapsed": false,
    "pycharm": {
     "name": "#%%\n"
    }
   }
  },
  {
   "cell_type": "code",
   "execution_count": null,
   "outputs": [],
   "source": [
    "PREPROCESSED_DATA_SAVE_DIR.mkdir(parents=True, exist_ok=True)\n",
    "FRAMES_SAVE_DIR.mkdir(exist_ok=True)\n",
    "CROPPED_CARS_SAVE_DIR.mkdir(exist_ok=True)"
   ],
   "metadata": {
    "collapsed": false,
    "pycharm": {
     "name": "#%%\n"
    }
   }
  },
  {
   "cell_type": "code",
   "execution_count": null,
   "outputs": [],
   "source": [
    "def split_video(video_path: Path) -> None:\n",
    "    save_dir = FRAMES_SAVE_DIR / video_path.stem\n",
    "    save_dir.mkdir(exist_ok=True)\n",
    "\n",
    "    vidcap = cv2.VideoCapture(str(video_path))\n",
    "    count = 1\n",
    "    while True:\n",
    "        ret, image = vidcap.read()\n",
    "        if not ret:\n",
    "            break\n",
    "\n",
    "        cv2.imwrite(str(save_dir / f\"frame{count}.jpg\"), image)\n",
    "        count += 1"
   ],
   "metadata": {
    "collapsed": false,
    "pycharm": {
     "name": "#%%\n"
    }
   }
  },
  {
   "cell_type": "code",
   "execution_count": null,
   "outputs": [],
   "source": [
    "videos_paths = [p for p in DATA_ROOT_DIR.glob('*') if p.suffix.lower() in VIDEOS_EXTENSIONS]\n",
    "for video_path in tqdm(videos_paths):\n",
    "    split_video(video_path)"
   ],
   "metadata": {
    "collapsed": false,
    "pycharm": {
     "name": "#%%\n"
    }
   }
  },
  {
   "cell_type": "code",
   "execution_count": null,
   "outputs": [],
   "source": [
    "def crop_frames(txt_path: Path, df: pd.DataFrame) -> None:\n",
    "    save_dir = CROPPED_CARS_SAVE_DIR / txt_path.stem\n",
    "    save_dir.mkdir(exist_ok=True)\n",
    "\n",
    "    for row_idx, row in df.iterrows():\n",
    "        k, idx, x, y, w, h = row.values\n",
    "        img = cv2.imread(str(FRAMES_SAVE_DIR / txt_path.stem / f\"frame{int(k)}.jpg\"))\n",
    "        crop = img[int(y) : int(y + h), int(x) : int(x + w)]\n",
    "        if crop.size != 0:\n",
    "            cv2.imwrite(str(save_dir / f\"frame{int(k)}.jpg\"), crop)"
   ],
   "metadata": {
    "collapsed": false,
    "pycharm": {
     "name": "#%%\n"
    }
   }
  },
  {
   "cell_type": "code",
   "execution_count": null,
   "outputs": [],
   "source": [
    "txt_paths = [p for p in DATA_ROOT_DIR.glob('*') if p.suffix.lower() == '.txt']\n",
    "for txt_path in tqdm(txt_paths):\n",
    "    df = pd.read_csv(\n",
    "        txt_path,\n",
    "        sep='\\t',\n",
    "        header=None,\n",
    "        names=['k', 'ID_i', 'x', 'y', 'width', 'height'],\n",
    "        skiprows=3\n",
    "    )\n",
    "    crop_frames(txt_path, df)"
   ],
   "metadata": {
    "collapsed": false,
    "pycharm": {
     "name": "#%%\n"
    }
   }
  },
  {
   "cell_type": "markdown",
   "source": [
    "## Extract features with use of HOG descriptor"
   ],
   "metadata": {
    "collapsed": false,
    "pycharm": {
     "name": "#%% md\n"
    }
   }
  },
  {
   "cell_type": "code",
   "execution_count": null,
   "outputs": [],
   "source": [
    "hog = HogFeatureDescriptor()"
   ],
   "metadata": {
    "collapsed": false,
    "pycharm": {
     "name": "#%%\n"
    }
   }
  },
  {
   "cell_type": "code",
   "execution_count": null,
   "outputs": [],
   "source": [
    "crops_hog_features = {}"
   ],
   "metadata": {
    "collapsed": false,
    "pycharm": {
     "name": "#%%\n"
    }
   }
  },
  {
   "cell_type": "code",
   "execution_count": null,
   "outputs": [],
   "source": [
    "for car_dir_path in CROPPED_CARS_SAVE_DIR.iterdir():\n",
    "    class_name = '_'.join(car_dir_path.stem.split('_')[:-1])\n",
    "    crops_hog_features[class_name] = []\n",
    "    crops_paths = [crop_path for crop_path in car_dir_path.iterdir()]\n",
    "    for crop_path in tqdm(crops_paths):\n",
    "        crop = cv2.imread(str(crop_path))\n",
    "        if crop is not None:\n",
    "            crops_hog_features[class_name].append(hog.predict(crop))"
   ],
   "metadata": {
    "collapsed": false,
    "pycharm": {
     "name": "#%%\n"
    }
   }
  },
  {
   "cell_type": "code",
   "execution_count": null,
   "outputs": [],
   "source": [
    "class_map = {\n",
    "    i: f \n",
    "    for i, f in enumerate(crops_hog_features.keys())\n",
    "}"
   ],
   "metadata": {
    "collapsed": false,
    "pycharm": {
     "name": "#%%\n"
    }
   }
  },
  {
   "cell_type": "code",
   "execution_count": null,
   "outputs": [],
   "source": [
    "with open('class_map.json', 'w') as f:\n",
    "    json.dump(class_map, f)"
   ],
   "metadata": {
    "collapsed": false,
    "pycharm": {
     "name": "#%%\n"
    }
   }
  },
  {
   "cell_type": "code",
   "execution_count": null,
   "outputs": [],
   "source": [
    "X_data = [np.array([np.array(c) for c in crops_hog_features[f]]) for f in crops_hog_features]\n",
    "y_data = [i * np.ones((X.shape[0], 1)) for i, X in enumerate(X_data)]"
   ],
   "metadata": {
    "collapsed": false,
    "pycharm": {
     "name": "#%%\n"
    }
   }
  },
  {
   "cell_type": "markdown",
   "source": [
    "## Train / test splitting"
   ],
   "metadata": {
    "collapsed": false,
    "pycharm": {
     "name": "#%% md\n"
    }
   }
  },
  {
   "cell_type": "code",
   "execution_count": null,
   "outputs": [],
   "source": [
    "X = np.vstack(X_data).astype(np.float32)\n",
    "y = np.vstack(y_data).astype(np.int32)"
   ],
   "metadata": {
    "collapsed": false,
    "pycharm": {
     "name": "#%%\n"
    }
   }
  },
  {
   "cell_type": "code",
   "execution_count": null,
   "outputs": [],
   "source": [
    "X_train, X_test, y_train, y_test = train_test_split(\n",
    "    X, y, test_size=0.2, random_state=42, stratify=y\n",
    ")"
   ],
   "metadata": {
    "collapsed": false,
    "pycharm": {
     "name": "#%%\n"
    }
   }
  },
  {
   "cell_type": "markdown",
   "source": [
    "## Train SVM model "
   ],
   "metadata": {
    "collapsed": false,
    "pycharm": {
     "name": "#%% md\n"
    }
   }
  },
  {
   "cell_type": "code",
   "execution_count": null,
   "outputs": [],
   "source": [
    "def train_cv2_svm(x_train, y_train, svm_type=cv2.ml.SVM_C_SVC, svm_kernel=cv2.ml.SVM_LINEAR, term_criteria=(cv2.TERM_CRITERIA_MAX_ITER, 100, 1e-6), ):\n",
    "    svm = cv2.ml.SVM_create()\n",
    "    svm.setType(svm_type)\n",
    "    svm.setKernel(svm_kernel)\n",
    "    svm.setTermCriteria(term_criteria)\n",
    "    svm.train(x_train, cv2.ml.ROW_SAMPLE, y_train)\n",
    "    svm.save('svm.dat')\n",
    "    return svm"
   ],
   "metadata": {
    "collapsed": false,
    "pycharm": {
     "name": "#%%\n"
    }
   }
  },
  {
   "cell_type": "code",
   "execution_count": null,
   "outputs": [],
   "source": [
    "svm = train_cv2_svm(X_train, y_train)"
   ],
   "metadata": {
    "collapsed": false,
    "pycharm": {
     "name": "#%%\n"
    }
   }
  },
  {
   "cell_type": "code",
   "execution_count": null,
   "outputs": [],
   "source": [
    "result = svm.predict(X_test)[1]\n",
    "mask = result == y_test\n",
    "correct = np.count_nonzero(mask)\n",
    "print(correct * 100.0 / result.size)"
   ],
   "metadata": {
    "collapsed": false,
    "pycharm": {
     "name": "#%%\n"
    }
   }
  },
  {
   "cell_type": "markdown",
   "source": [
    "## Example prediction"
   ],
   "metadata": {
    "collapsed": false,
    "pycharm": {
     "name": "#%% md\n"
    }
   }
  },
  {
   "cell_type": "code",
   "execution_count": null,
   "outputs": [],
   "source": [
    "def predict_class(\n",
    "    img,\n",
    "    feature_descriptor=hog,\n",
    "    model=svm,\n",
    "    class_map={i: f for i, f in enumerate(crops_hog_features.keys())},\n",
    "):\n",
    "    features = feature_descriptor.predict(img)[np.newaxis, ...].astype(np.float32)\n",
    "    pred = model.predict(features)[1][0][0]\n",
    "\n",
    "    return class_map[pred]"
   ],
   "metadata": {
    "collapsed": false,
    "pycharm": {
     "name": "#%%\n"
    }
   }
  },
  {
   "cell_type": "code",
   "execution_count": null,
   "outputs": [],
   "source": [
    "crop = cv2.imread(str(CROPPED_CARS_SAVE_DIR / 'ford_escape_2011_blue_02/frame10.jpg'))\n",
    "plt.figure(figsize=(7, 7))\n",
    "plt.imshow(cv2.cvtColor(crop, cv2.COLOR_BGR2RGB))\n",
    "plt.axis('off')\n",
    "plt.show()"
   ],
   "metadata": {
    "collapsed": false,
    "pycharm": {
     "name": "#%%\n"
    }
   }
  },
  {
   "cell_type": "code",
   "execution_count": null,
   "outputs": [],
   "source": [
    "predict_class(crop)"
   ],
   "metadata": {
    "collapsed": false,
    "pycharm": {
     "name": "#%%\n"
    }
   }
  },
  {
   "cell_type": "code",
   "execution_count": null,
   "outputs": [],
   "source": [],
   "metadata": {
    "collapsed": false,
    "pycharm": {
     "name": "#%%\n"
    }
   }
  },
  {
   "cell_type": "code",
   "execution_count": 17,
   "id": "b99a2b0a",
   "metadata": {},
   "outputs": [
    {
     "name": "stdout",
     "output_type": "stream",
     "text": [
      "99.63892056252375\n"
     ]
    }
   ],
   "source": [
    "result = svm.predict(X_test)[1]\n",
    "mask = result == y_test\n",
    "correct = np.count_nonzero(mask)\n",
    "print(correct * 100.0 / result.size)"
   ]
  },
  {
   "cell_type": "markdown",
   "id": "5f0db547",
   "metadata": {},
   "source": [
    "## Example prediction"
   ]
  },
  {
   "cell_type": "code",
   "execution_count": 18,
   "id": "b9465c57",
   "metadata": {},
   "outputs": [],
   "source": [
    "def predict_class(\n",
    "    img,\n",
    "    feature_descriptor=hog,\n",
    "    model=svm,\n",
    "    class_map={i: f for i, f in enumerate(crops_hog_features.keys())},\n",
    "):\n",
    "    features = feature_descriptor.predict(img)[np.newaxis, ...].astype(np.float32)\n",
    "    pred = model.predict(features)[1][0][0]\n",
    "\n",
    "    return class_map[pred]"
   ]
  },
  {
   "cell_type": "code",
   "execution_count": 31,
   "id": "ad7cccbd",
   "metadata": {},
   "outputs": [
    {
     "data": {
      "image/png": "[encoded data removed]",
      "text/plain": [
       "<Figure size 504x504 with 1 Axes>"
      ]
     },
     "metadata": {
      "needs_background": "light"
     },
     "output_type": "display_data"
    }
   ],
   "source": [
    "crop = cv2.imread(str(CROPPED_CARS_SAVE_DIR / 'ford_escape_2011_blue_02/frame10.jpg'))\n",
    "plt.figure(figsize=(7, 7))\n",
    "plt.imshow(cv2.cvtColor(crop, cv2.COLOR_BGR2RGB))\n",
    "plt.axis('off')\n",
    "plt.show()"
   ]
  },
  {
   "cell_type": "code",
   "execution_count": 32,
   "id": "1ad33c1d",
   "metadata": {},
   "outputs": [
    {
     "data": {
      "text/plain": [
       "'ford_escape_2011_blue'"
      ]
     },
     "execution_count": 32,
     "metadata": {},
     "output_type": "execute_result"
    }
   ],
   "source": [
    "predict_class(crop)"
   ]
  },
  {
   "cell_type": "code",
   "execution_count": null,
   "id": "8dee9258-0ad5-4aa3-9d16-55cc06140de6",
   "metadata": {},
   "outputs": [],
   "source": []
  }
 ],
 "metadata": {
  "kernelspec": {
   "display_name": "Python 3 (ipykernel)",
   "language": "python",
   "name": "python3"
  },
  "language_info": {
   "codemirror_mode": {
    "name": "ipython",
    "version": 3
   },
   "file_extension": ".py",
   "mimetype": "text/x-python",
   "name": "python",
   "nbconvert_exporter": "python",
   "pygments_lexer": "ipython3",
   "version": "3.10.4"
  }
 },
 "nbformat": 4,
 "nbformat_minor": 5
}